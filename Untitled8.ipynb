{
  "nbformat": 4,
  "nbformat_minor": 0,
  "metadata": {
    "colab": {
      "provenance": []
    },
    "kernelspec": {
      "name": "python3",
      "display_name": "Python 3"
    },
    "language_info": {
      "name": "python"
    }
  },
  "cells": [
    {
      "cell_type": "code",
      "execution_count": null,
      "metadata": {
        "id": "qK5pntGdTKo_"
      },
      "outputs": [],
      "source": []
    },
    {
      "cell_type": "markdown",
      "source": [
        "write a program to find the factorial of a number"
      ],
      "metadata": {
        "id": "J3Ggxk1vTMAo"
      }
    },
    {
      "cell_type": "code",
      "source": [
        "fact=1\n",
        "n=int(input(\"enter a number\"))\n",
        "num=n\n",
        "while n>0:\n",
        "  fact=fact*n\n",
        "  n=n-1\n",
        "print (\"the factorial of \",num,\"is\",fact)\n"
      ],
      "metadata": {
        "colab": {
          "base_uri": "https://localhost:8080/"
        },
        "id": "LZ1ejYbpTXzO",
        "outputId": "23362629-6049-49eb-c158-797ed17bfde7"
      },
      "execution_count": null,
      "outputs": [
        {
          "output_type": "stream",
          "name": "stdout",
          "text": [
            "enter a number5\n",
            "the factorial of  5 is 120\n"
          ]
        }
      ]
    },
    {
      "cell_type": "code",
      "source": [],
      "metadata": {
        "id": "uLHWMOSOX_B6"
      },
      "execution_count": null,
      "outputs": []
    },
    {
      "cell_type": "markdown",
      "source": [
        "fibonacci series of n terms"
      ],
      "metadata": {
        "id": "31wcxUEjbpqH"
      }
    },
    {
      "cell_type": "code",
      "source": [
        "n=int(input(\"enter a number\"))\n",
        "f1=0\n",
        "f2=1\n",
        "print(f1)\n",
        "print(f2)\n",
        "f3=f1+f2\n",
        "while(f3<n):\n",
        "  print(f3)\n",
        "  f1=f2\n",
        "  f2=f3\n",
        "  f3=f1+f2"
      ],
      "metadata": {
        "colab": {
          "base_uri": "https://localhost:8080/"
        },
        "id": "TNiKbz1pb2oO",
        "outputId": "3a3c2e1a-1c53-443b-8a7a-f906869fa4e0"
      },
      "execution_count": null,
      "outputs": [
        {
          "output_type": "stream",
          "name": "stdout",
          "text": [
            "enter a number20\n",
            "0\n",
            "1\n",
            "1\n",
            "2\n",
            "3\n",
            "5\n",
            "8\n",
            "13\n"
          ]
        }
      ]
    },
    {
      "cell_type": "markdown",
      "source": [
        "to find sum of all items in a list [using for loop]"
      ],
      "metadata": {
        "id": "z-42XM-ZdBl5"
      }
    },
    {
      "cell_type": "code",
      "source": [
        "li=[1,2,3,4,5]\n",
        "sum=0\n",
        "for i in li:\n",
        "  sum=sum+i\n",
        "  print(sum)\n"
      ],
      "metadata": {
        "colab": {
          "base_uri": "https://localhost:8080/"
        },
        "id": "-_oXLMlFdMiy",
        "outputId": "008259a1-71da-4bdf-870c-63d3ac30c763"
      },
      "execution_count": null,
      "outputs": [
        {
          "output_type": "stream",
          "name": "stdout",
          "text": [
            "1\n",
            "3\n",
            "6\n",
            "10\n",
            "15\n"
          ]
        }
      ]
    },
    {
      "cell_type": "code",
      "source": [
        "li=[]\n",
        "n=int(input(\"how many elements :\"))\n",
        "for i in range(n):\n",
        "  num=int(input(\"enter a number :\"))\n",
        "  li.append(num)\n",
        "print(li)\n",
        "print(\"sum of list\",sum(li))"
      ],
      "metadata": {
        "id": "iC6KGiIbvSqI",
        "colab": {
          "base_uri": "https://localhost:8080/"
        },
        "outputId": "798f0491-0b1a-466c-cda5-479ba3acf238"
      },
      "execution_count": null,
      "outputs": [
        {
          "output_type": "stream",
          "name": "stdout",
          "text": [
            "how many elements :3\n",
            "enter a number :2\n",
            "enter a number :4\n",
            "enter a number :5\n",
            "[2, 4, 5]\n",
            "sum of list 11\n"
          ]
        }
      ]
    },
    {
      "cell_type": "markdown",
      "source": [
        "print multiplication table of n,where n is entered by user\n",
        "using for loop"
      ],
      "metadata": {
        "id": "ykfpyv-X025I"
      }
    },
    {
      "cell_type": "code",
      "source": [
        "n=int(input(\"enter a number:\"))\n",
        "for i in range(1,11):\n",
        "  mul=n*i\n",
        "  print(mul)\n",
        "  \n",
        "\n",
        " \n",
        "\n"
      ],
      "metadata": {
        "colab": {
          "base_uri": "https://localhost:8080/"
        },
        "id": "b7stElRp1J3_",
        "outputId": "1a20be5d-c762-4649-b8d7-42fe24416d5a"
      },
      "execution_count": null,
      "outputs": [
        {
          "output_type": "stream",
          "name": "stdout",
          "text": [
            "enter a number:5\n",
            "5\n",
            "10\n",
            "15\n",
            "20\n",
            "25\n",
            "30\n",
            "35\n",
            "40\n",
            "45\n",
            "50\n"
          ]
        }
      ]
    },
    {
      "cell_type": "markdown",
      "source": [
        "print reverse of a number using while loop"
      ],
      "metadata": {
        "id": "bI61b3Dh6VlI"
      }
    },
    {
      "cell_type": "code",
      "source": [
        "num=int(input(\"enter a number :\"))\n",
        "reverse=0\n",
        "while(num!=0):\n",
        "  digit=num%10\n",
        "  reverse=reverse*10+digit\n",
        "  num=num//10\n",
        "print(\"reverse\",reverse)"
      ],
      "metadata": {
        "id": "Ppa4bp9b6bfd",
        "colab": {
          "base_uri": "https://localhost:8080/"
        },
        "outputId": "66cd9cfe-ccc7-4458-8a0e-f62f8317e1e1"
      },
      "execution_count": null,
      "outputs": [
        {
          "output_type": "stream",
          "name": "stdout",
          "text": [
            "enter a number :123\n",
            "reverse 321\n"
          ]
        }
      ]
    },
    {
      "cell_type": "markdown",
      "source": [
        "Write a program to find whether the given number is an\n",
        "Amstrong number or not. [use while loop]"
      ],
      "metadata": {
        "id": "j6GECH60j7TW"
      }
    },
    {
      "cell_type": "code",
      "source": [],
      "metadata": {
        "id": "NiY7cw4Tj_W2"
      },
      "execution_count": null,
      "outputs": []
    },
    {
      "cell_type": "code",
      "source": [
        "num=int(input(\"enter the number\"))\n",
        "order=len(str(num))\n",
        "sum=0\n",
        "temp=num\n",
        "while(temp>0):\n",
        "  digit=temp%10\n",
        "  sum=sum+digit**order\n",
        "  temp=temp//10\n",
        "if(sum==num):\n",
        "   print(num,\"is a amstrong number\")\n",
        "else:\n",
        "   print(num,\"not a amstrong\")   "
      ],
      "metadata": {
        "id": "YvANZQQiyhR_",
        "colab": {
          "base_uri": "https://localhost:8080/"
        },
        "outputId": "7ee24425-6c54-4f42-810f-027c58e0f257"
      },
      "execution_count": null,
      "outputs": [
        {
          "output_type": "stream",
          "name": "stdout",
          "text": [
            "enter the number153\n",
            "153 is a amstrong number\n"
          ]
        }
      ]
    },
    {
      "cell_type": "markdown",
      "source": [
        "7. Write a program to generate all factors of a number. [use while loop]"
      ],
      "metadata": {
        "id": "cuLLQUgdn2K_"
      }
    },
    {
      "cell_type": "code",
      "source": [
        "n=int(input(\"enter a number\"))\n",
        "print(\"factors of\",n,\":\")\n",
        "i=1\n",
        "while i<=n:\n",
        "  if n%i==0:\n",
        "    print(i)\n",
        "  i=i+1 \n",
        "  "
      ],
      "metadata": {
        "colab": {
          "base_uri": "https://localhost:8080/"
        },
        "id": "24bi2qgjn5na",
        "outputId": "2f229ebb-7dfa-4848-82a1-f79e26aea38a"
      },
      "execution_count": null,
      "outputs": [
        {
          "output_type": "stream",
          "name": "stdout",
          "text": [
            "enter a number5\n",
            "factors of 5 :\n",
            "1\n",
            "5\n"
          ]
        }
      ]
    },
    {
      "cell_type": "markdown",
      "source": [
        "6. Display the given pyramid with the step number accepted\n",
        "from the user. Eg: N=4\n"
      ],
      "metadata": {
        "id": "PpxUAre7snIt"
      }
    },
    {
      "cell_type": "code",
      "source": [
        "rows=int(input(\"enter number of rows :\"))\n",
        "for i in range(1,rows+1):\n",
        "  for j in range(1,i+1):\n",
        "    print(i*j,end=\" \")\n",
        "  print()  "
      ],
      "metadata": {
        "colab": {
          "base_uri": "https://localhost:8080/"
        },
        "id": "TTUVLvVfsp9a",
        "outputId": "24c45d7d-3895-421c-883a-944e4f614ea6"
      },
      "execution_count": null,
      "outputs": [
        {
          "output_type": "stream",
          "name": "stdout",
          "text": [
            "enter number of rows :3\n",
            "1 \n",
            "2 4 \n",
            "3 6 9 \n"
          ]
        }
      ]
    },
    {
      "cell_type": "markdown",
      "source": [
        "Construct following pattern using nested loop"
      ],
      "metadata": {
        "id": "a8XVrNVw01kV"
      }
    },
    {
      "cell_type": "code",
      "source": [
        "n=5\n",
        "for i in range(n):\n",
        "  for j in range (i):\n",
        "    print('*',end=\" \")\n",
        "  print('') \n",
        "\n",
        "for i in range(n,0,-1):\n",
        "  for j in range(i):\n",
        "    print('*',end=\" \")\n",
        "  print('')     "
      ],
      "metadata": {
        "colab": {
          "base_uri": "https://localhost:8080/"
        },
        "id": "pspTPaH305xd",
        "outputId": "d8bc0c8a-1828-4ae2-a337-59af6b022940"
      },
      "execution_count": null,
      "outputs": [
        {
          "output_type": "stream",
          "name": "stdout",
          "text": [
            "\n",
            "* \n",
            "* * \n",
            "* * * \n",
            "* * * * \n",
            "* * * * * \n",
            "* * * * \n",
            "* * * \n",
            "* * \n",
            "* \n"
          ]
        }
      ]
    },
    {
      "cell_type": "markdown",
      "source": [
        "Generate a list of four digit numbers in a given range with all\n",
        "their digits even and the\n",
        "number is a perfect square."
      ],
      "metadata": {
        "id": "LSCIG13945J3"
      }
    },
    {
      "cell_type": "code",
      "source": [
        "\n",
        "l=[]\n",
        "for i in range(1000,10000):\n",
        "  n=str(i)\n",
        "  a=int(n[0])\n",
        "  b=int(n[1])\n",
        "  c=int(n[2])\n",
        "  d=int(n[3])\n",
        "  m=i**(0.5)\n",
        "  if a%2==0 and b%2==0 and c%2==0 and d%2==0:\n",
        "    if (m//1)==m:\n",
        "      l.append(n)\n",
        "\n",
        "print(l)\n",
        "  \n",
        "  \n"
      ],
      "metadata": {
        "id": "dBSP0fZl47El",
        "colab": {
          "base_uri": "https://localhost:8080/"
        },
        "outputId": "6a0402fd-81ac-4687-81b6-c5654e29441e"
      },
      "execution_count": null,
      "outputs": [
        {
          "output_type": "stream",
          "name": "stdout",
          "text": [
            "['4624', '6084', '6400', '8464']\n"
          ]
        }
      ]
    },
    {
      "cell_type": "code",
      "source": [],
      "metadata": {
        "id": "MeDNlFrNs0dq"
      },
      "execution_count": null,
      "outputs": []
    }
  ]
}